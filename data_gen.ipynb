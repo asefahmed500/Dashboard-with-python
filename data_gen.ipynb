{
 "cells": [
  {
   "cell_type": "code",
   "execution_count": 2,
   "metadata": {},
   "outputs": [
    {
     "name": "stdout",
     "output_type": "stream",
     "text": [
      "Sample data generated and saved to 'sales_data.csv'.\n"
     ]
    }
   ],
   "source": [
    "import pandas as pd\n",
    "import numpy as np\n",
    "from datetime import datetime, timedelta\n",
    "import random\n",
    "\n",
    "def generate_sample_data(num_records):\n",
    "    start_date = datetime(2023, 1, 1)\n",
    "    categories = ['Electronics', 'Clothing', 'Home & Kitchen', 'Books', 'Toys']\n",
    "    geographies = ['North America', 'Europe', 'Asia', 'South America', 'Australia']\n",
    "    customer_types = ['New', 'Returning']\n",
    "    traffic_sources = ['Direct', 'Organic Search', 'Paid Ads', 'Social Media', 'Referral']\n",
    "\n",
    "    data = []\n",
    "\n",
    "    for _ in range(num_records):\n",
    "        record = {\n",
    "            'Date': (start_date + timedelta(days=random.randint(0, 150))).date(),\n",
    "            'Category': random.choice(categories),\n",
    "            'Geography': random.choice(geographies),\n",
    "            'Customer_Type': random.choice(customer_types),\n",
    "            'Sales': round(random.uniform(10, 1000), 2),\n",
    "            'Revenue': round(random.uniform(10, 1000), 2),\n",
    "            'Order_ID': random.randint(1000, 9999),\n",
    "            'Customer': f'Customer_{random.randint(1, 1000)}',\n",
    "            'Total_Amount': round(random.uniform(10, 1000), 2),\n",
    "            'Status': random.choice(['Completed', 'Pending', 'Cancelled']),\n",
    "            'Visits': random.randint(50, 500),\n",
    "            'Orders': random.randint(1, 50),\n",
    "            'Stage': random.choice(['Visit', 'Add to Cart', 'Purchase']),\n",
    "            'Count': random.randint(1, 100),\n",
    "            'Traffic_Source': random.choice(traffic_sources),\n",
    "            'Session_Duration': round(random.uniform(1, 10), 2),\n",
    "            'Bounce_Rate': round(random.uniform(0, 1), 2),\n",
    "            'Pages_Per_Session': round(random.uniform(1, 10), 2),\n",
    "            'Product_Name': f'Product_{random.randint(1, 100)}'\n",
    "        }\n",
    "        data.append(record)\n",
    "\n",
    "    return pd.DataFrame(data)\n",
    "\n",
    "# Generate sample data\n",
    "num_records = 1000  # You can adjust the number of records\n",
    "sales_data = generate_sample_data(num_records)\n",
    "\n",
    "# Save to CSV\n",
    "sales_data.to_csv('sales_data.csv', index=False)\n",
    "print(\"Sample data generated and saved to 'sales_data.csv'.\")\n"
   ]
  },
  {
   "cell_type": "code",
   "execution_count": null,
   "metadata": {},
   "outputs": [],
   "source": []
  }
 ],
 "metadata": {
  "kernelspec": {
   "display_name": "base",
   "language": "python",
   "name": "python3"
  },
  "language_info": {
   "codemirror_mode": {
    "name": "ipython",
    "version": 3
   },
   "file_extension": ".py",
   "mimetype": "text/x-python",
   "name": "python",
   "nbconvert_exporter": "python",
   "pygments_lexer": "ipython3",
   "version": "3.11.5"
  }
 },
 "nbformat": 4,
 "nbformat_minor": 2
}
